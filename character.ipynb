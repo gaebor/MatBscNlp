{
 "cells": [
  {
   "cell_type": "code",
   "execution_count": 2,
   "metadata": {
    "collapsed": true
   },
   "outputs": [],
   "source": [
    "from collections import defaultdict"
   ]
  },
  {
   "cell_type": "code",
   "execution_count": 5,
   "metadata": {},
   "outputs": [
    {
     "name": "stdout",
     "output_type": "stream",
     "text": [
      "defaultdict(<class 'int'>, {'`': 7558, 'T': 12882, 'h': 182728, 'e': 553072, 'D': 4889, 'L': 6352, 'o': 346840, 'r': 290104, 'm': 109544, 'P': 5538, 'N': 3467, '-': 26137, '2': 2977, '0': 4229, 'p': 102243, 's': 292546, 'n': 326316, 't': 412029, 'a': 348389, 'w': 58929, 'b': 56462, 'd': 165504, 'f': 97611, 'G': 1604, 'S': 8652, 'v': 52552, 'i': 341012, 'c': 158428, '.': 46340, ',': 44376, 'l': 177149, 'y': 76780, 'g': 84973, 'F': 3359, 'u': 122576, 'E': 4983, \"'\": 13852, '5': 1644, 'k': 20020, '!': 375, 'W': 4609, 'A': 11484, 'x': 9797, 'B': 12896, 'C': 10133, 'O': 2981, '?': 801, 'Y': 1108, 'I': 16244, 'R': 16178, 'K': 504, 'M': 4448, '1': 3987, '8': 1067, 'z': 3755, ':': 1174, ';': 1581, 'j': 4043, 'q': 4886, '4': 1257, '6': 1035, '9': 1734, '\\\\': 1387, '/': 1575, '%': 155, '&': 151, 'U': 1861, 'H': 2693, '3': 1558, 'J': 1097, 'V': 1617, 'Z': 88, 'X': 213, 'Q': 127, '7': 887, '@': 44, '~': 1, '#': 41, '$': 342, '*': 55, '+': 15, '\\xa0': 15, '(': 13, ')': 13, '=': 18, '’': 1, '[': 55, '<': 58, '>': 58, ']': 54, 'κ': 1, 'ﬁ': 1})\n"
     ]
    }
   ],
   "source": [
    "vocab = defaultdict(int)\n",
    "with open(\"umbc.casesensitive.word_pos.1M.txt\", \"r\", encoding=\"utf8\", errors=\"ignore\") as f:\n",
    "    for line in f:\n",
    "        word = line.strip().split(\"\\t\")[0]\n",
    "        characters = list(word)\n",
    "        for c in characters:\n",
    "            vocab[c] += 1\n",
    "print(vocab)"
   ]
  },
  {
   "cell_type": "code",
   "execution_count": 11,
   "metadata": {},
   "outputs": [
    {
     "name": "stdout",
     "output_type": "stream",
     "text": [
      "4704917\n"
     ]
    }
   ],
   "source": [
    "print(sum(vocab.values()))\n",
    "vocab_sorted = sorted(vocab.items(), key=lambda x: x[0])\n",
    "freq_sorted = [v[1] for v in vocab_sorted]"
   ]
  },
  {
   "cell_type": "code",
   "execution_count": 8,
   "metadata": {
    "collapsed": true
   },
   "outputs": [],
   "source": [
    "import matplotlib.pyplot as plt\n",
    "%matplotlib inline"
   ]
  },
  {
   "cell_type": "code",
   "execution_count": 17,
   "metadata": {},
   "outputs": [
    {
     "name": "stdout",
     "output_type": "stream",
     "text": [
      "['!', '#', '$', '%', '&', \"'\", '(', ')', '*', '+', ',', '-', '.', '/', '0', '1', '2', '3', '4', '5', '6', '7', '8', '9', ':', ';', '<', '=', '>', '?', '@', 'A', 'B', 'C', 'D', 'E', 'F', 'G', 'H', 'I', 'J', 'K', 'L', 'M', 'N', 'O', 'P', 'Q', 'R', 'S', 'T', 'U', 'V', 'W', 'X', 'Y', 'Z', '[', '\\\\', ']', '`', 'a', 'b', 'c', 'd', 'e', 'f', 'g', 'h', 'i', 'j', 'k', 'l', 'm', 'n', 'o', 'p', 'q', 'r', 's', 't', 'u', 'v', 'w', 'x', 'y', 'z', '~', '\\xa0', 'κ', '’', 'ﬁ']\n"
     ]
    },
    {
     "data": {
      "image/png": "[encoded data removed]",
      "text/plain": [
       "<matplotlib.figure.Figure at 0x1aa3e7e89b0>"
      ]
     },
     "metadata": {},
     "output_type": "display_data"
    }
   ],
   "source": [
    "plt.plot(range(1, len(freq_sorted) + 1), freq_sorted)\n",
    "print([v[0] for v in vocab_sorted])"
   ]
  },
  {
   "cell_type": "code",
   "execution_count": null,
   "metadata": {
    "collapsed": true
   },
   "outputs": [],
   "source": []
  }
 ],
 "metadata": {
  "kernelspec": {
   "display_name": "Python 3",
   "language": "python",
   "name": "python3"
  },
  "language_info": {
   "codemirror_mode": {
    "name": "ipython",
    "version": 3
   },
   "file_extension": ".py",
   "mimetype": "text/x-python",
   "name": "python",
   "nbconvert_exporter": "python",
   "pygments_lexer": "ipython3",
   "version": "3.6.3"
  }
 },
 "nbformat": 4,
 "nbformat_minor": 2
}
